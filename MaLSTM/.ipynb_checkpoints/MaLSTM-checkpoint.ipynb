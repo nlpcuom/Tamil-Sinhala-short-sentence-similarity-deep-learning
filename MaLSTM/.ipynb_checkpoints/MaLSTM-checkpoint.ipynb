{
 "cells": [
  {
   "cell_type": "markdown",
   "metadata": {},
   "source": [
    "# MaLSTM on Kaggle's Quora Question Pairs"
   ]
  },
  {
   "cell_type": "markdown",
   "metadata": {},
   "source": [
    "This notebook is about implementing the MaLSTM model (http://www.mit.edu/~jonasm/info/MuellerThyagarajan_AAAI16.pdf) on Kaggle's Quora Question Pairs data.\n",
    "\n",
    "Blog post containing a broader explanation about the network can be found in the following link https://medium.com/@eliorcohen/implementing-malstm-on-kaggles-quora-question-pairs-competition-8b31b0b16a07\n"
   ]
  },
  {
   "cell_type": "markdown",
   "metadata": {},
   "source": [
    "# CODE"
   ]
  },
  {
   "cell_type": "markdown",
   "metadata": {},
   "source": [
    "First, lets import all the necessary packages"
   ]
  },
  {
   "cell_type": "code",
   "execution_count": 1,
   "metadata": {},
   "outputs": [
    {
     "name": "stderr",
     "output_type": "stream",
     "text": [
      "C:\\Users\\Nilaxan\\anaconda3\\lib\\site-packages\\gensim\\utils.py:1197: UserWarning: detected Windows; aliasing chunkize to chunkize_serial\n",
      "  warnings.warn(\"detected Windows; aliasing chunkize to chunkize_serial\")\n"
     ]
    }
   ],
   "source": [
    "from time import time\n",
    "import pandas as pd\n",
    "import numpy as np\n",
    "from gensim.models import KeyedVectors\n",
    "import re\n",
    "from nltk.corpus import stopwords\n",
    "from sklearn.model_selection import train_test_split\n",
    "import matplotlib.pyplot as plt\n",
    "import seaborn as sns\n",
    "\n",
    "import itertools\n",
    "import datetime\n",
    "\n",
    "from keras.preprocessing.sequence import pad_sequences\n",
    "from keras.models import Model\n",
    "from keras.layers import Input, Embedding, LSTM, Lambda\n",
    "import keras.backend as K\n",
    "from keras.optimizers import Adadelta\n",
    "from keras.optimizers import Adam\n",
    "from keras.callbacks import ModelCheckpoint"
   ]
  },
  {
   "cell_type": "markdown",
   "metadata": {},
   "source": [
    "Global variables"
   ]
  },
  {
   "cell_type": "code",
   "execution_count": 4,
   "metadata": {},
   "outputs": [],
   "source": [
    "# File paths\n",
    "TRAIN_CSV = 'C:\\\\Users\\\\Nilaxan\\\\Documents\\\\GitHub\\\\MaLSTM\\\\data\\\\train.csv'\n",
    "TEST_CSV = 'C:\\\\Users\\\\Nilaxan\\\\Documents\\\\GitHub\\\\MaLSTM\\\\data\\\\test.csv'\n",
    "EMBEDDING_FILE = 'C:\\\\Users\\\\Nilaxan\\\\Documents\\\\GitHub\\\\Siamese-LSTM\\\\data\\\\GoogleNews-vectors-negative300.bin.gz'\n",
    "MODEL_SAVING_DIR = 'C:\\\\Users\\\\Nilaxan\\\\Documents\\\\GitHub\\\\MaLSTM\\\\data'"
   ]
  },
  {
   "cell_type": "markdown",
   "metadata": {},
   "source": [
    "Create embedding matrix"
   ]
  },
  {
   "cell_type": "code",
   "execution_count": 5,
   "metadata": {},
   "outputs": [],
   "source": [
    "# Load training and test set\n",
    "train_df = pd.read_csv(TRAIN_CSV)\n",
    "test_df = pd.read_csv(TEST_CSV)\n",
    "\n",
    "stops = set(stopwords.words('english'))\n",
    "\n",
    "def text_to_word_list(text):\n",
    "    ''' Pre process and convert texts to a list of words '''\n",
    "    text = str(text)\n",
    "    text = text.lower()\n",
    "\n",
    "    # Clean the text\n",
    "    text = re.sub(r\"[^A-Za-z0-9^,!.\\/'+-=]\", \" \", text)\n",
    "    text = re.sub(r\"what's\", \"what is \", text)\n",
    "    text = re.sub(r\"\\'s\", \" \", text)\n",
    "    text = re.sub(r\"\\'ve\", \" have \", text)\n",
    "    text = re.sub(r\"can't\", \"cannot \", text)\n",
    "    text = re.sub(r\"n't\", \" not \", text)\n",
    "    text = re.sub(r\"i'm\", \"i am \", text)\n",
    "    text = re.sub(r\"\\'re\", \" are \", text)\n",
    "    text = re.sub(r\"\\'d\", \" would \", text)\n",
    "    text = re.sub(r\"\\'ll\", \" will \", text)\n",
    "    text = re.sub(r\",\", \" \", text)\n",
    "    text = re.sub(r\"\\.\", \" \", text)\n",
    "    text = re.sub(r\"!\", \" ! \", text)\n",
    "    text = re.sub(r\"\\/\", \" \", text)\n",
    "    text = re.sub(r\"\\^\", \" ^ \", text)\n",
    "    text = re.sub(r\"\\+\", \" + \", text)\n",
    "    text = re.sub(r\"\\-\", \" - \", text)\n",
    "    text = re.sub(r\"\\=\", \" = \", text)\n",
    "    text = re.sub(r\"'\", \" \", text)\n",
    "    text = re.sub(r\"(\\d+)(k)\", r\"\\g<1>000\", text)\n",
    "    text = re.sub(r\":\", \" : \", text)\n",
    "    text = re.sub(r\" e g \", \" eg \", text)\n",
    "    text = re.sub(r\" b g \", \" bg \", text)\n",
    "    text = re.sub(r\" u s \", \" american \", text)\n",
    "    text = re.sub(r\"\\0s\", \"0\", text)\n",
    "    text = re.sub(r\" 9 11 \", \"911\", text)\n",
    "    text = re.sub(r\"e - mail\", \"email\", text)\n",
    "    text = re.sub(r\"j k\", \"jk\", text)\n",
    "    text = re.sub(r\"\\s{2,}\", \" \", text)\n",
    "\n",
    "    text = text.split()\n",
    "\n",
    "    return text\n",
    "\n",
    "# Prepare embedding\n",
    "vocabulary = dict()\n",
    "inverse_vocabulary = ['<unk>']  # '<unk>' will never be used, it is only a placeholder for the [0, 0, ....0] embedding\n",
    "word2vec = KeyedVectors.load_word2vec_format(EMBEDDING_FILE, binary=True)\n",
    "\n",
    "questions_cols = ['question1', 'question2']\n",
    "\n",
    "# Iterate over the questions only of both training and test datasets\n",
    "for dataset in [train_df, test_df]:\n",
    "    for index, row in dataset.iterrows():\n",
    "\n",
    "        # Iterate through the text of both questions of the row\n",
    "        for question in questions_cols:\n",
    "\n",
    "            q2n = []  # q2n -> question numbers representation\n",
    "            for word in text_to_word_list(row[question]):\n",
    "\n",
    "                # Check for unwanted words\n",
    "                if word in stops and word not in word2vec.vocab:\n",
    "                    continue\n",
    "\n",
    "                if word not in vocabulary:\n",
    "                    vocabulary[word] = len(inverse_vocabulary)\n",
    "                    q2n.append(len(inverse_vocabulary))\n",
    "                    inverse_vocabulary.append(word)\n",
    "                else:\n",
    "                    q2n.append(vocabulary[word])\n",
    "\n",
    "            # Replace questions as word to question as number representation\n",
    "            dataset.at[index, question] = q2n\n",
    "            \n",
    "embedding_dim = 300\n",
    "embeddings = 1 * np.random.randn(len(vocabulary) + 1, embedding_dim)  # This will be the embedding matrix\n",
    "embeddings[0] = 0  # So that the padding will be ignored\n",
    "\n",
    "# Build the embedding matrix\n",
    "for word, index in vocabulary.items():\n",
    "    if word in word2vec.vocab:\n",
    "        embeddings[index] = word2vec.word_vec(word)\n",
    "\n",
    "del word2vec"
   ]
  },
  {
   "cell_type": "markdown",
   "metadata": {},
   "source": [
    "Prepare training and validation data"
   ]
  },
  {
   "cell_type": "code",
   "execution_count": 6,
   "metadata": {},
   "outputs": [],
   "source": [
    "max_seq_length = max(train_df.question1.map(lambda x: len(x)).max(),\n",
    "                     train_df.question2.map(lambda x: len(x)).max(),\n",
    "                     test_df.question1.map(lambda x: len(x)).max(),\n",
    "                     test_df.question2.map(lambda x: len(x)).max())\n",
    "\n",
    "# Split to train validation\n",
    "validation_size = 40000\n",
    "training_size = len(train_df) - validation_size\n",
    "\n",
    "X = train_df[questions_cols]\n",
    "Y = train_df['is_duplicate']\n",
    "\n",
    "X_train, X_validation, Y_train, Y_validation = train_test_split(X, Y, test_size=validation_size)\n",
    "\n",
    "# Split to dicts\n",
    "X_train = {'left': X_train.question1, 'right': X_train.question2}\n",
    "X_validation = {'left': X_validation.question1, 'right': X_validation.question2}\n",
    "X_test = {'left': test_df.question1, 'right': test_df.question2}\n",
    "\n",
    "# Convert labels to their numpy representations\n",
    "Y_train = Y_train.values\n",
    "Y_validation = Y_validation.values\n",
    "\n",
    "# Zero padding\n",
    "for dataset, side in itertools.product([X_train, X_validation], ['left', 'right']):\n",
    "    dataset[side] = pad_sequences(dataset[side], maxlen=max_seq_length)\n",
    "\n",
    "# Make sure everything is ok\n",
    "assert X_train['left'].shape == X_train['right'].shape\n",
    "assert len(X_train['left']) == len(Y_train)"
   ]
  },
  {
   "cell_type": "markdown",
   "metadata": {},
   "source": [
    "Build the model"
   ]
  },
  {
   "cell_type": "code",
   "execution_count": 7,
   "metadata": {},
   "outputs": [
    {
     "name": "stdout",
     "output_type": "stream",
     "text": [
      "Epoch 1/50\n",
      "5693/5693 [==============================] - 1288s 226ms/step - loss: 0.1758 - accuracy: 0.7447 - val_loss: 0.1493 - val_accuracy: 0.7861\n",
      "Epoch 2/50\n",
      "5693/5693 [==============================] - 1240s 218ms/step - loss: 0.1437 - accuracy: 0.8001 - val_loss: 0.1421 - val_accuracy: 0.8049\n",
      "Epoch 3/50\n",
      "5693/5693 [==============================] - 1228s 216ms/step - loss: 0.1341 - accuracy: 0.8148 - val_loss: 0.1358 - val_accuracy: 0.8113\n",
      "Epoch 4/50\n",
      "5693/5693 [==============================] - 1253s 220ms/step - loss: 0.1283 - accuracy: 0.8255 - val_loss: 0.1329 - val_accuracy: 0.8160\n",
      "Epoch 5/50\n",
      "5693/5693 [==============================] - 1287s 226ms/step - loss: 0.1249 - accuracy: 0.8303 - val_loss: 0.1310 - val_accuracy: 0.8201\n",
      "Epoch 6/50\n",
      "5693/5693 [==============================] - 1325s 233ms/step - loss: 0.1219 - accuracy: 0.8354 - val_loss: 0.1298 - val_accuracy: 0.8219\n",
      "Epoch 7/50\n",
      "5693/5693 [==============================] - 1238s 218ms/step - loss: 0.1193 - accuracy: 0.8400 - val_loss: 0.1282 - val_accuracy: 0.8229\n",
      "Epoch 8/50\n",
      "5693/5693 [==============================] - 1421s 250ms/step - loss: 0.1168 - accuracy: 0.8439 - val_loss: 0.1275 - val_accuracy: 0.8238\n",
      "Epoch 9/50\n",
      "5693/5693 [==============================] - 1296s 228ms/step - loss: 0.1144 - accuracy: 0.8490 - val_loss: 0.1262 - val_accuracy: 0.8251\n",
      "Epoch 10/50\n",
      "5693/5693 [==============================] - 1237s 217ms/step - loss: 0.1138 - accuracy: 0.8496 - val_loss: 0.1257 - val_accuracy: 0.8277\n",
      "Epoch 11/50\n",
      "5693/5693 [==============================] - 1217s 214ms/step - loss: 0.1121 - accuracy: 0.8519 - val_loss: 0.1264 - val_accuracy: 0.8284\n",
      "Epoch 12/50\n",
      "5693/5693 [==============================] - 1207s 212ms/step - loss: 0.1109 - accuracy: 0.8545 - val_loss: 0.1247 - val_accuracy: 0.8282\n",
      "Epoch 13/50\n",
      "5693/5693 [==============================] - 12747s 2s/step - loss: 0.1095 - accuracy: 0.8571 - val_loss: 0.1244 - val_accuracy: 0.8288\n",
      "Epoch 14/50\n",
      "5693/5693 [==============================] - 1349s 237ms/step - loss: 0.1080 - accuracy: 0.8592 - val_loss: 0.1242 - val_accuracy: 0.8293\n",
      "Epoch 15/50\n",
      "5693/5693 [==============================] - 1398s 246ms/step - loss: 0.1070 - accuracy: 0.8605 - val_loss: 0.1239 - val_accuracy: 0.8313\n",
      "Epoch 16/50\n",
      "5693/5693 [==============================] - 1260s 221ms/step - loss: 0.1058 - accuracy: 0.8635 - val_loss: 0.1237 - val_accuracy: 0.8300\n",
      "Epoch 17/50\n",
      "5693/5693 [==============================] - 1246s 219ms/step - loss: 0.1048 - accuracy: 0.8650 - val_loss: 0.1233 - val_accuracy: 0.8314\n",
      "Epoch 18/50\n",
      "5693/5693 [==============================] - 1255s 220ms/step - loss: 0.1043 - accuracy: 0.8651 - val_loss: 0.1239 - val_accuracy: 0.8311\n",
      "Epoch 19/50\n",
      "5693/5693 [==============================] - 1319s 232ms/step - loss: 0.1033 - accuracy: 0.8668 - val_loss: 0.1237 - val_accuracy: 0.8302\n",
      "Epoch 20/50\n",
      "5693/5693 [==============================] - 1322s 232ms/step - loss: 0.1030 - accuracy: 0.8677 - val_loss: 0.1227 - val_accuracy: 0.8317\n",
      "Epoch 21/50\n",
      "5693/5693 [==============================] - 1298s 228ms/step - loss: 0.1021 - accuracy: 0.8694 - val_loss: 0.1227 - val_accuracy: 0.8314\n",
      "Epoch 22/50\n",
      "5693/5693 [==============================] - 1255s 221ms/step - loss: 0.1004 - accuracy: 0.8725 - val_loss: 0.1223 - val_accuracy: 0.8332\n",
      "Epoch 23/50\n",
      "5693/5693 [==============================] - 1286s 226ms/step - loss: 0.0998 - accuracy: 0.8728 - val_loss: 0.1222 - val_accuracy: 0.8333\n",
      "Epoch 24/50\n",
      "5693/5693 [==============================] - 1339s 235ms/step - loss: 0.0997 - accuracy: 0.8727 - val_loss: 0.1220 - val_accuracy: 0.8340\n",
      "Epoch 25/50\n",
      "5693/5693 [==============================] - 1369s 240ms/step - loss: 0.0986 - accuracy: 0.8744 - val_loss: 0.1224 - val_accuracy: 0.8327\n",
      "Epoch 26/50\n",
      "5693/5693 [==============================] - 1297s 228ms/step - loss: 0.0983 - accuracy: 0.8754 - val_loss: 0.1220 - val_accuracy: 0.8340\n",
      "Epoch 27/50\n",
      "5693/5693 [==============================] - 1324s 233ms/step - loss: 0.0980 - accuracy: 0.8762 - val_loss: 0.1220 - val_accuracy: 0.8332\n",
      "Epoch 28/50\n",
      "5693/5693 [==============================] - 1322s 232ms/step - loss: 0.0971 - accuracy: 0.8780 - val_loss: 0.1219 - val_accuracy: 0.8341\n",
      "Epoch 29/50\n",
      "5693/5693 [==============================] - 1294s 227ms/step - loss: 0.0966 - accuracy: 0.8783 - val_loss: 0.1216 - val_accuracy: 0.8354\n",
      "Epoch 30/50\n",
      "5693/5693 [==============================] - 1257s 221ms/step - loss: 0.0969 - accuracy: 0.8780 - val_loss: 0.1216 - val_accuracy: 0.8346\n",
      "Epoch 31/50\n",
      "5693/5693 [==============================] - 1262s 222ms/step - loss: 0.0955 - accuracy: 0.8803 - val_loss: 0.1221 - val_accuracy: 0.8335\n",
      "Epoch 32/50\n",
      "5693/5693 [==============================] - 1259s 221ms/step - loss: 0.0948 - accuracy: 0.8813 - val_loss: 0.1215 - val_accuracy: 0.8343\n",
      "Epoch 33/50\n",
      "5693/5693 [==============================] - 1265s 222ms/step - loss: 0.0946 - accuracy: 0.8815 - val_loss: 0.1218 - val_accuracy: 0.8345\n",
      "Epoch 34/50\n",
      "5693/5693 [==============================] - 1267s 223ms/step - loss: 0.0938 - accuracy: 0.8826 - val_loss: 0.1213 - val_accuracy: 0.8345\n",
      "Epoch 35/50\n",
      "5693/5693 [==============================] - 1276s 224ms/step - loss: 0.0937 - accuracy: 0.8837 - val_loss: 0.1214 - val_accuracy: 0.8355\n",
      "Epoch 36/50\n",
      "5693/5693 [==============================] - 1269s 223ms/step - loss: 0.0928 - accuracy: 0.8846 - val_loss: 0.1213 - val_accuracy: 0.8366\n",
      "Epoch 37/50\n",
      "5693/5693 [==============================] - 1272s 223ms/step - loss: 0.0929 - accuracy: 0.8841 - val_loss: 0.1211 - val_accuracy: 0.8358\n",
      "Epoch 38/50\n",
      "5693/5693 [==============================] - 1276s 224ms/step - loss: 0.0925 - accuracy: 0.8853 - val_loss: 0.1209 - val_accuracy: 0.8361\n",
      "Epoch 39/50\n",
      "5693/5693 [==============================] - 1273s 224ms/step - loss: 0.0920 - accuracy: 0.8866 - val_loss: 0.1208 - val_accuracy: 0.8374\n",
      "Epoch 40/50\n",
      "5693/5693 [==============================] - 1274s 224ms/step - loss: 0.0918 - accuracy: 0.8862 - val_loss: 0.1214 - val_accuracy: 0.8358\n",
      "Epoch 41/50\n",
      "5693/5693 [==============================] - 1279s 225ms/step - loss: 0.0917 - accuracy: 0.8876 - val_loss: 0.1215 - val_accuracy: 0.8362\n",
      "Epoch 42/50\n",
      "5693/5693 [==============================] - 1275s 224ms/step - loss: 0.0912 - accuracy: 0.8879 - val_loss: 0.1215 - val_accuracy: 0.8358\n",
      "Epoch 43/50\n",
      "5693/5693 [==============================] - 1272s 223ms/step - loss: 0.0907 - accuracy: 0.8885 - val_loss: 0.1210 - val_accuracy: 0.8364\n",
      "Epoch 44/50\n",
      "5693/5693 [==============================] - 1287s 226ms/step - loss: 0.0905 - accuracy: 0.8888 - val_loss: 0.1212 - val_accuracy: 0.8363\n",
      "Epoch 45/50\n",
      "5693/5693 [==============================] - 1282s 225ms/step - loss: 0.0899 - accuracy: 0.8897 - val_loss: 0.1213 - val_accuracy: 0.8371\n",
      "Epoch 46/50\n",
      "5693/5693 [==============================] - 1294s 227ms/step - loss: 0.0897 - accuracy: 0.8903 - val_loss: 0.1211 - val_accuracy: 0.8367\n",
      "Epoch 47/50\n",
      "5693/5693 [==============================] - 1290s 227ms/step - loss: 0.0895 - accuracy: 0.8904 - val_loss: 0.1214 - val_accuracy: 0.8357\n",
      "Epoch 48/50\n",
      "5693/5693 [==============================] - 1280s 225ms/step - loss: 0.0889 - accuracy: 0.8912 - val_loss: 0.1214 - val_accuracy: 0.8359\n",
      "Epoch 49/50\n",
      "5693/5693 [==============================] - 1284s 225ms/step - loss: 0.0889 - accuracy: 0.8910 - val_loss: 0.1214 - val_accuracy: 0.8357\n",
      "Epoch 50/50\n",
      "5693/5693 [==============================] - 1284s 226ms/step - loss: 0.0885 - accuracy: 0.8926 - val_loss: 0.1210 - val_accuracy: 0.8361\n",
      "Training time finished.\n",
      "50 epochs in 21:01:37.076632\n"
     ]
    }
   ],
   "source": [
    "# Model variables\n",
    "n_hidden = 50\n",
    "gradient_clipping_norm = 1.25\n",
    "learning_rate=0.001\n",
    "batch_size = 64\n",
    "n_epoch = 50\n",
    "\n",
    "def exponent_neg_manhattan_distance(left, right):\n",
    "    ''' Helper function for the similarity estimate of the LSTMs outputs'''\n",
    "    return K.exp(-K.sum(K.abs(left-right), axis=1, keepdims=True))\n",
    "\n",
    "# The visible layer\n",
    "left_input = Input(shape=(max_seq_length,), dtype='int32')\n",
    "right_input = Input(shape=(max_seq_length,), dtype='int32')\n",
    "\n",
    "embedding_layer = Embedding(len(embeddings), embedding_dim, weights=[embeddings], input_length=max_seq_length, trainable=False)\n",
    "\n",
    "# Embedded version of the inputs\n",
    "encoded_left = embedding_layer(left_input)\n",
    "encoded_right = embedding_layer(right_input)\n",
    "\n",
    "# Since this is a siamese network, both sides share the same LSTM\n",
    "shared_lstm = LSTM(n_hidden)\n",
    "\n",
    "left_output = shared_lstm(encoded_left)\n",
    "right_output = shared_lstm(encoded_right)\n",
    "\n",
    "# Calculates the distance as defined by the MaLSTM model\n",
    "malstm_distance = Lambda(function=lambda x: exponent_neg_manhattan_distance(x[0], x[1]),output_shape=lambda x: (x[0][0], 1))([left_output, right_output])\n",
    "\n",
    "# Pack it all up into a model\n",
    "malstm = Model([left_input, right_input], [malstm_distance])\n",
    "\n",
    "# Adadelta optimizer, with gradient clipping by norm\n",
    "##optimizer = Adadelta(clipnorm=gradient_clipping_norm)\n",
    "optimizer = Adam(learning_rate)\n",
    "\n",
    "malstm.compile(loss='mean_squared_error', optimizer=optimizer, metrics=['accuracy'])\n",
    "\n",
    "# Start training\n",
    "training_start_time = time()\n",
    "\n",
    "malstm_trained = malstm.fit([X_train['left'], X_train['right']], Y_train, batch_size=batch_size, epochs=n_epoch,\n",
    "                            validation_data=([X_validation['left'], X_validation['right']], Y_validation))\n",
    "\n",
    "print(\"Training time finished.\\n{} epochs in {}\".format(n_epoch, datetime.timedelta(seconds=time()-training_start_time)))"
   ]
  },
  {
   "cell_type": "markdown",
   "metadata": {},
   "source": [
    "Plotting the results"
   ]
  },
  {
   "cell_type": "code",
   "execution_count": 8,
   "metadata": {},
   "outputs": [
    {
     "data": {
      "image/png": "[encoded data removed]",
      "text/plain": [
       "<Figure size 432x288 with 1 Axes>"
      ]
     },
     "metadata": {
      "needs_background": "light"
     },
     "output_type": "display_data"
    },
    {
     "data": {
      "image/png": "[encoded data removed]",
      "text/plain": [
       "<Figure size 432x288 with 1 Axes>"
      ]
     },
     "metadata": {
      "needs_background": "light"
     },
     "output_type": "display_data"
    }
   ],
   "source": [
    "# Plot accuracy\n",
    "plt.plot(malstm_trained.history['accuracy'])\n",
    "plt.plot(malstm_trained.history['val_accuracy'])\n",
    "plt.title('Model Accuracy')\n",
    "plt.ylabel('Accuracy')\n",
    "plt.xlabel('Epoch')\n",
    "plt.legend(['Train', 'Validation'], loc='upper left')\n",
    "plt.show()\n",
    "\n",
    "# Plot loss\n",
    "plt.plot(malstm_trained.history['loss'])\n",
    "plt.plot(malstm_trained.history['val_loss'])\n",
    "plt.title('Model Loss')\n",
    "plt.ylabel('Loss')\n",
    "plt.xlabel('Epoch')\n",
    "plt.legend(['Train', 'Validation'], loc='upper right')\n",
    "plt.show()"
   ]
  }
 ],
 "metadata": {
  "kernelspec": {
   "display_name": "Python 3",
   "language": "python",
   "name": "python3"
  },
  "language_info": {
   "codemirror_mode": {
    "name": "ipython",
    "version": 3
   },
   "file_extension": ".py",
   "mimetype": "text/x-python",
   "name": "python",
   "nbconvert_exporter": "python",
   "pygments_lexer": "ipython3",
   "version": "3.8.5"
  },
  "toc": {
   "base_numbering": 1,
   "nav_menu": {},
   "number_sections": true,
   "sideBar": true,
   "skip_h1_title": false,
   "title_cell": "Table of Contents",
   "title_sidebar": "Contents",
   "toc_cell": false,
   "toc_position": {},
   "toc_section_display": true,
   "toc_window_display": false
  }
 },
 "nbformat": 4,
 "nbformat_minor": 2
}
